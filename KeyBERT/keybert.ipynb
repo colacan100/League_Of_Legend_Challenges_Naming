{
 "cells": [
  {
   "cell_type": "code",
   "execution_count": 60,
   "metadata": {},
   "outputs": [],
   "source": [
    "# konlpy 관련 참고링크\n",
    "# https://velog.io/@soo-im/konlpy-%EC%84%A4%EC%B9%98-%EC%97%90%EB%9F%AC-%ED%95%B4%EA%B2%B0%EC%B1%85-%EC%95%84%EB%82%98%EC%BD%98%EB%8B%A4-JPYPE"
   ]
  },
  {
   "cell_type": "code",
   "execution_count": null,
   "metadata": {},
   "outputs": [],
   "source": [
    "!pip install JPype1-1.1.2-cp38-cp38-win_amd64.whl"
   ]
  },
  {
   "cell_type": "code",
   "execution_count": null,
   "metadata": {},
   "outputs": [],
   "source": [
    "!pip install sentence_transformers\n",
    "!pip install konlpy"
   ]
  },
  {
   "cell_type": "code",
   "execution_count": 1,
   "metadata": {},
   "outputs": [],
   "source": [
    "import numpy as np\n",
    "import itertools\n",
    "\n",
    "from konlpy.tag import Okt\n",
    "from sklearn.feature_extraction.text import CountVectorizer\n",
    "from sklearn.metrics.pairwise import cosine_similarity\n",
    "from sentence_transformers import SentenceTransformer"
   ]
  },
  {
   "cell_type": "code",
   "execution_count": null,
   "metadata": {},
   "outputs": [],
   "source": [
    "!pip install pandas"
   ]
  },
  {
   "cell_type": "code",
   "execution_count": 2,
   "metadata": {},
   "outputs": [],
   "source": [
    "import pandas as pd"
   ]
  },
  {
   "cell_type": "code",
   "execution_count": 3,
   "metadata": {},
   "outputs": [],
   "source": [
    "def clean_df(name):\n",
    "    df = pd.read_csv(name)\n",
    "    df = df.drop(columns='Unnamed: 0')\n",
    "    return df"
   ]
  },
  {
   "cell_type": "code",
   "execution_count": 4,
   "metadata": {},
   "outputs": [],
   "source": [
    "def most_keywords(df):\n",
    "\n",
    "    doc = ''\n",
    "    for text_list in df['full_text']:\n",
    "        doc += (' ' + text_list)\n",
    "\n",
    "    # 형태소 분석기\n",
    "    okt = Okt()\n",
    "\n",
    "    tokenized_doc = okt.pos(doc)\n",
    "    tokenized_nouns = ' '.join([word[0] for word in tokenized_doc if word[1] == 'Noun'])\n",
    "\n",
    "    print('품사 태깅 10개만 출력 :',tokenized_doc[:10])\n",
    "    print('명사 10개만 출력 :',tokenized_nouns[:10])\n",
    "\n",
    "    # 사이킷런의 CountVectorizer를 사용하여 단어를 추출\n",
    "    n_gram_range = (2, 3)\n",
    "\n",
    "    count = CountVectorizer(ngram_range=n_gram_range).fit([tokenized_nouns])\n",
    "    candidates = count.get_feature_names_out()\n",
    "\n",
    "    print('trigram 개수 :',len(candidates))\n",
    "    print('trigram 다섯개만 출력 :',candidates[:5])\n",
    "\n",
    "    # 다국어 SBERT 로드\n",
    "    model = SentenceTransformer('sentence-transformers/xlm-r-100langs-bert-base-nli-stsb-mean-tokens')\n",
    "    doc_embedding = model.encode([doc])\n",
    "    candidate_embeddings = model.encode(candidates)\n",
    "\n",
    "    # 문서와 가장 유사한 키워드 추출\n",
    "    top_n = 100\n",
    "    distances = cosine_similarity(doc_embedding, candidate_embeddings)\n",
    "    keywords = [candidates[index] for index in distances.argsort()[0][-top_n:]]\n",
    "    print(keywords)"
   ]
  },
  {
   "cell_type": "code",
   "execution_count": 6,
   "metadata": {},
   "outputs": [],
   "source": [
    "df_league = clean_df('C:\\\\Users\\\\colacan\\\\Documents\\\\GitHub\\\\League_Of_Legend_Challenges_Project\\\\tweet_list\\\\tweet_list.csv')"
   ]
  },
  {
   "cell_type": "code",
   "execution_count": null,
   "metadata": {},
   "outputs": [],
   "source": [
    "most_keywords(df_league)"
   ]
  },
  {
   "cell_type": "code",
   "execution_count": null,
   "metadata": {},
   "outputs": [],
   "source": [
    "df_top = clean_df('top_list.csv')\n",
    "most_keywords(df_top)"
   ]
  },
  {
   "cell_type": "code",
   "execution_count": null,
   "metadata": {},
   "outputs": [
    {
     "name": "stdout",
     "output_type": "stream",
     "text": [
      "품사 태깅 10개만 출력 : [('@tflno_dxz23', 'ScreenName'), ('다른사람', 'Noun'), ('들', 'Suffix'), ('이', 'Josa'), ('낀거라도', 'Verb'), ('보면서', 'Verb'), ('힐링', 'Noun'), ('롤', 'Noun'), ('할려', 'Verb'), ('구', 'Noun')]\n",
      "명사 10개만 출력 : 다른사람 힐링 롤 \n",
      "trigram 개수 : 800\n",
      "trigram 다섯개만 출력 : ['가끔 서폿' '가끔 서폿 원딜' '가끔 스왑' '가끔 스왑 바텀' '가능 트위터']\n",
      "['넷이 인베 방어', '미드 시즌', '해명 트윗 리리아', '미드 미드 원딜', '티저 오락 엉덩이', '어푸푸 오늘', '남아 비바 리움', '터트렸는데 상체 쌍련들', '정글 넷이 인베', '인베 방어', '바텀 사람 게임', '카구야 학생회', '꾀죄죄 후즐', '미드 원딜 정글', '서폿 원딜 정글', '미드 바텀', '고정 미드 원딜', '벽력 쭉쭉 라인', '가렌 제이스 피오라', '미드 미식', '미코 차이 지면', '정글 돌기 바텀', '미드 카구야 학생회', '솔킬 미드', '가면 탱서폿 미드', '가미 유우', '자꾸 서폿 혜지', '미드 정글 구해', '포지션 미코', '미드 키사', '웅애 서폿', '제이스 피오라 오공', '꾀죄죄 후즐 남편', '처음 바텀 유미', '미드 라인 예정', '치카 미드 가미', '노틸러스 챔피언 특정', '거시 어푸푸 오늘', '커버 역전승 친구', '치어리딩 제일 캐릭터', '원딜 게임 터트려', '시간 모스트 벨코즈', '하싈분 웅애 서폿', '미드 꾀죄죄 후즐', '낭만 원딜 서폿', '챔피언 특정 챔피언', '린처 모스트 미드', '킹반 린처 모스트', '상대로 솔킬 미드', '오오 토리 미드', '거시 어푸푸', '학생회 포지션 미코', '리그 티저', '카구야 학생회 포지션', '대전 젠츠', '명구 카구야 학생회', '학살 이유 솔킬따', '어푸푸 오늘 미드', '솔킬따 정글 옵젝', '때문 메이지 유저', '오공 말파 켄치', '라인 챔프 게임', '미드 낭만 원딜', '바텀 유미', '챔프 스웨인 미드', '서폿 노틸러스 챔피언', '유우 봇듀', '참여 미드 서폿', '봇듀 회장 원딜', '리턴 거시 어푸푸', '서폿 고정 미드', '매력 타입 치어리딩', '미드 가미 유우', '바텀 남자 플레이', '토리 미드 키사', '정글 이정 티어', '노틸러스 챔피언', '상대 미드 키배', '젠츠 하싈분 웅애', '머싯단 대전', '서폿 미드 유저', '시즌 리그', '미드 미드 시즌', '옵젝 미드 낭만', '부장 매력 타입', '가미 유우 봇듀', '대전 젠츠 미드', '미식 축구 부장', '정공 상대 미드', '인큐 정글 서폿', '웅애 서폿 미드', '캐리 이상 바텀터지', '시즌 리그 티저', '리그 티저 오락', '미드 시즌 리그', '대전 젠츠 하싈분', '젠츠 머싯단 대전', '라인 복귀 리쉬', '바텀 유미 미드', '머싯단 대전 젠츠']\n"
     ]
    }
   ],
   "source": [
    "df_mid = clean_df('mid_list.csv')\n",
    "most_keywords(df_mid)"
   ]
  },
  {
   "cell_type": "code",
   "execution_count": null,
   "metadata": {},
   "outputs": [
    {
     "name": "stdout",
     "output_type": "stream",
     "text": [
      "품사 태깅 10개만 출력 : [('와', 'Verb'), (',..', 'Punctuation'), ('씨발', 'Noun'), ('간', 'Suffix'), ('만에', 'Josa'), ('롤', 'Noun'), ('했더니', 'Verb'), ('요즘', 'Noun'), ('현자', 'Noun'), ('처럼', 'Josa')]\n",
      "명사 10개만 출력 : 씨발 롤 요즘 현자\n",
      "trigram 개수 : 853\n",
      "trigram 다섯개만 출력 : ['가기 프로젝트' '가기 프로젝트 구합' '가끔 정답' '가끔 정답 라인' '가미 유우']\n",
      "['상대 납골당 슈가', '챔피언 특정 챔피언', '랭크하닥 멘탈 정글', '픽해 듀오 챔피언', '진짜 개패 정글', '연구원 리듬게임', '대해 얘기 미드', '낭만 원딜', '뭔가 계속 차이', '보통 참여 미드', '간만 쌍욕 오늘', '카구야 서폿 느낌', '라면 만하 자꾸', '보통 상대 정글', '이재석 욕설 트롤', '일반 예전 렙때', '토리 미드 키사', '게임 챔프 스웨인', '예전 렙때 암살자', '기생 코바 원딜', '피지 가끔', '챔피언 이유 때문', '탈론 운영 달라', '미드 정글 구해', '언랭 언랭 여자', '참여 티어 언랭', '라면 만하', '정글 때문 메이지', '리쉬 보통 참여', '간만 쌍욕', '진짜 이해 처음', '정글 지금 채팅', '평생 행복 하자', '내전 참여 백구', '미드 낭만 원딜', '여자 인척 쌍벞주', '챔피언 정글 혼자', '저격 소리 참여', '바텀 유미 미드', '파우더 목표 카구야', '시발 대해 얘기', '라면 원영 몰입', '탱커 하싈분 웅애', '예능 제일', '라면 대학원생 아마', '진짜 진심 골드', '프로젝트 구합 승리', '라인 크립 보통', '꼽주 소리 내전', '덤덤 이빨 거시', '라인 눈앞 상대', '하나 몰루는데', '만하 랭크하닥 멘탈', '렙때 암살자 상대로', '유우 봇듀', '미드 가미 유우', '정글 만하 랭크하닥', '유미 유미 새끼', '문제 고요 게임', '승리 지향 즐겜', '봇듀 회장 원딜', '분만 만하 자꾸', '암살자 상대로 솔킬', '노틸러스 요즘 정글', '어딧음 심지어 가정', '미드 낭만', '지향 즐겜', '사람 예능', '진짜 소름 우리', '몰루는데 블리츠 바람', '하나 몰루는데 블리츠', '즐겜 모드', '샛기 어딧음 심지어', '관련 연구원 리듬게임', '욕설 트롤 그때', '목적 상대 캐치', '문제 재미', '도수 이재석 욕설', '처음 하든', '트롤 그때 챔피언', '캐치 묘수풀이 느낌', '즐겜 모드 조건', '피지 가끔 정답', '라면 혹시 트친', '욕설 트롤', '가미 유우 봇듀', '바람 문제 재미', '연구원 리듬게임 마이', '재미 진짜 소름', '문제 재미 진짜', '지향 즐겜 모드', '상대 캐치 묘수풀이', '느낌 피지 가끔', '사람 예능 제일', '정글 하나 몰루는데', '이해 처음 하든', '언랭 여자 인척', '예능 제일 스토리', '크립 보통 상대', '묘수풀이 느낌 피지']\n"
     ]
    }
   ],
   "source": [
    "df_jungle = clean_df('jungle_list.csv')\n",
    "most_keywords(df_jungle)"
   ]
  },
  {
   "cell_type": "code",
   "execution_count": null,
   "metadata": {},
   "outputs": [
    {
     "name": "stdout",
     "output_type": "stream",
     "text": [
      "품사 태깅 10개만 출력 : [('@bebeahrang', 'ScreenName'), ('발', 'Noun'), ('로란', 'Noun'), ('트', 'Noun'), ('같', 'Adjective'), ('이해', 'Noun'), ('요', 'Josa'), ('엄청', 'Adverb'), ('재미있는', 'Adjective'), ('게임', 'Noun')]\n",
      "명사 10개만 출력 : 발 로란 트 이해 \n",
      "trigram 개수 : 920\n",
      "trigram 다섯개만 출력 : ['가끔 미니' '가끔 미니 언도' '가끔 서폿' '가끔 서폿 원딜' '가끔 스왑']\n",
      "['환영 적막 게임', '하싈분 웅애 서폿', '팀운 하타 버러지', '게임 하싈분', '하이 텐션 환영', '딜로 유격대 마딜', '사람 친구 이상', '계약 다해', '가끔 실수', '잘해야 원딜 캐리', '유격대 마딜 그냥', '미드 원딜 정글', '캐리 이상 바텀터지', '원딜 중반 이후', '가끔 미니 언도', '라이너 명구 그냥', '미드 가미 유우', '사리 원딜 아기', '원딜 유격대', '보육 힐러 지오', '원딜 유격대 딜로', '원딜 제껍니', '기생 코바 원딜', '게임 터트려 아무', '아하 효월 원딜', '폿도 잘해야', '바텀터지 원딜 구원불', '비밀 물리 원딜', '유우 봇듀', '가면 서폿 그냥', '미드 가끔 서폿', '원딜 암살자 발견', '챔피언 정글 혼자', '버러지 아하 효월', '화남 연패', '제일 이해 원딜', '진짜 트롤 칼리', '바람 무관 대신', '진짜 박하', '로란 이해 게임', '진짜 진심 골드', '마법 미드 리리아', '유격대 딜로 유격대', '게임 카구야 학생회', '게임 터트렸는데', '터트렸는데 상체', '리쉬 보통 참여', '레드 가끔 실수', '화남 연패 동생', '마딜 그냥 비술사', '터트려 아무 원딜', '이해 혼자 친구', '주로 미드 가끔', '먼저 원딜 무도', '마법 미드 아하', '봇듀 회장 원딜', '원딜 주로 라인', '어쩌 어쩌 막상', '원딜 계약 다해', '제껍니 마이크 필수', '설치 사람 일단', '원딜 제껍니 마이크', '존나 화남 연패', '닉값 눈치 원딜', '혼자 친구 바람', '학살 이유 솔킬따', '진짜 트롤', '전사 먼저 원딜', '해괴 논리 진짜', '서폿 이해 혼자', '근딜거 평생', '가끔 서폿 원딜', '복귀 진짜 트롤', '계약 다해 진짜', '폿도 잘해야 원딜', '이상 엇으면어캄 게임', '그냥 비술사 보시', '가미 유우 봇듀', '원딜 게임 터트려', '친구 바람 혼자', '무관 대신 참고', '사람 게임 터트렸는데', '평생 웃기', '다해 진짜 박하', '친구 이상 엇으면어캄', '가끔 실수 막타침', '평생 웃기 그거슨', '게임 하싈분 웅애', '논리 진짜 트롤', '근딜 근딜거 평생', '정글 원딜 버러지', '엇으면어캄 게임 그냥', '막타침 이건 스킬', '게임 터트렸는데 상체', '웃기 그거슨 편견', '연습 원딜 제껍니', '게임 폿도 잘해야', '엇으면어캄 게임 카구야', '터트렸는데 상체 쌍련들', '근딜거 평생 웃기']\n"
     ]
    }
   ],
   "source": [
    "df_ad = clean_df('ad_list.csv')\n",
    "most_keywords(df_ad)"
   ]
  },
  {
   "cell_type": "code",
   "execution_count": null,
   "metadata": {},
   "outputs": [
    {
     "name": "stdout",
     "output_type": "stream",
     "text": [
      "품사 태깅 10개만 출력 : [('@bebeahrang', 'ScreenName'), ('발', 'Noun'), ('로란', 'Noun'), ('트', 'Noun'), ('같', 'Adjective'), ('이해', 'Noun'), ('요', 'Josa'), ('엄청', 'Adverb'), ('재미있는', 'Adjective'), ('게임', 'Noun')]\n",
      "명사 10개만 출력 : 발 로란 트 이해 \n",
      "trigram 개수 : 890\n",
      "trigram 다섯개만 출력 : ['가끔 미니' '가끔 미니 언도' '가끔 서폿' '가끔 서폿 원딜' '가끔 스왑']\n",
      "['사람 요즘 서폿', '모름 진짜 흡수', '진짜 빡쵸 실속', '관둔적잇엇음 진짜 지인', '대신 분노 주의', '사람 관둔적잇엇음 카구야', '캐리 이상 바텀터지', '서폿 전부 게임', '체감 공감 해도', '이태정 피방 상상', '크게 유미 유미', '주로 탱커 문도', '가끔 실수', '유미 유미 새끼', '진짜 트롤 칼리', '게임 사람 시작', '트윗 양해 바람', '사과 트윗', '주로 미드 가끔', '봇듀 회장 원딜', '마법 마법 미드', '개판 게임', '운영 타도 언제', '그냥 바보 눈물', '가끔 욱하', '트롤 서폿', '가끔 미니 언도', '어쩌 어쩌 막상', '전부 게임 사람', '미드 가미 유우', '뉴비 트윗', '벌레 시작 진짜', '리턴 거시 어푸푸', '초반 크게 유미', '점철 보이 채팅', '탱서폿 미드 마법', '지인 우리 혜지', '티어 서은광 혹시', '무관 대신 참고', '리쉬 보통 참여', '폿도 잘해야 원딜', '탱커 문도 갑자기', '설치 사람 일단', '가끔 욱하 아버', '가끔 서폿 원딜', '바람 트롤', '계약 다해 진짜', '적용 그냥 바보', '싹싹 그때 벌레', '다해 진짜 박하', '예정 오빠 픈데', '마법 미드 자식', '마법 미드 갑자기', '어푸푸 오늘 미드', '그때 벌레 시작', '특정 챔피언 정글', '이빨 거시 정글', '얼마 안대 서폿챔', '편지 진짜 빡쵸', '학생회 포지션 미코', '게임 해도', '사과 트윗 등등', '개판 게임 해도', '해도 온갖 혐오', '진짜 개판 게임', '눈물 가끔 욱하', '덤덤 이빨 거시', '어쩌 막상 게임', '유우 봇듀', '코딩 사천성', '트윗 양해', '최대한 딜넣음 오늘', '마법 미드 강우', '진짜 트롤', '트롤 칼리', '픈데 티어 서은광', '갑자기 쭈구러듬', '로란 이해 게임', '서폿 코딩 사천성', '갑자기 쭈구러듬 협곡', '미드 진짜 트롤', '이어도 얘기 혐오', '시작 이어도 얘기', '게임 는걸 원딜', '뉴비 트윗 양해', '말파 최대한 딜넣음', '양해 바람 트롤', '코딩 사천성 주변', '사람 시작 이어도', '막타침 이건 스킬', '가미 유우 봇듀', '제일 뉴비 트윗', '트롤 서폿 깜빡', '바보 눈물 가끔', '게임 해도 온갖', '게임 폿도 잘해야', '가끔 실수 막타침', '트롤 칼리 스타', '문도 갑자기 쭈구러듬', '유미 진짜 트롤']\n"
     ]
    }
   ],
   "source": [
    "df_sup = clean_df('sup_list.csv')\n",
    "most_keywords(df_sup)"
   ]
  },
  {
   "cell_type": "code",
   "execution_count": null,
   "metadata": {},
   "outputs": [],
   "source": []
  }
 ],
 "metadata": {
  "interpreter": {
   "hash": "f1d1ca04bcf6d8a22391b842d1bb739acd183735045253f19b5d1acca0a11b0e"
  },
  "kernelspec": {
   "display_name": "Python 3.8.13 ('leagueoflegend')",
   "language": "python",
   "name": "python3"
  },
  "language_info": {
   "codemirror_mode": {
    "name": "ipython",
    "version": 3
   },
   "file_extension": ".py",
   "mimetype": "text/x-python",
   "name": "python",
   "nbconvert_exporter": "python",
   "pygments_lexer": "ipython3",
   "version": "3.8.13"
  },
  "orig_nbformat": 4
 },
 "nbformat": 4,
 "nbformat_minor": 2
}
