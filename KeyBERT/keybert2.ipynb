{
  "cells": [
    {
      "cell_type": "code",
      "execution_count": 1,
      "metadata": {
        "id": "60gZ3iid4Eb3"
      },
      "outputs": [],
      "source": [
        "# konlpy 관련 참고링크\n",
        "# https://velog.io/@soo-im/konlpy-%EC%84%A4%EC%B9%98-%EC%97%90%EB%9F%AC-%ED%95%B4%EA%B2%B0%EC%B1%85-%EC%95%84%EB%82%98%EC%BD%98%EB%8B%A4-JPYPE"
      ]
    },
    {
      "cell_type": "code",
      "execution_count": null,
      "metadata": {
        "colab": {
          "base_uri": "https://localhost:8080/"
        },
        "id": "_lkSl3N64Eb6",
        "outputId": "cde1ea36-cbff-46d1-f26f-7b43a31769bd"
      },
      "outputs": [],
      "source": [
        "!pip install JPype1-1.1.2-cp38-cp38-win_amd64.whl"
      ]
    },
    {
      "cell_type": "code",
      "execution_count": null,
      "metadata": {
        "colab": {
          "base_uri": "https://localhost:8080/"
        },
        "id": "QFvUd71d4Eb7",
        "outputId": "2d8d3e34-4cd2-42a3-ea6e-a514d42a9099"
      },
      "outputs": [],
      "source": [
        "!pip install sentence_transformers\n",
        "!pip install konlpy"
      ]
    },
    {
      "cell_type": "code",
      "execution_count": null,
      "metadata": {
        "id": "l2NFPSTJ4Eb7"
      },
      "outputs": [],
      "source": [
        "import numpy as np\n",
        "import itertools\n",
        "\n",
        "from konlpy.tag import Okt\n",
        "from sklearn.feature_extraction.text import CountVectorizer\n",
        "from sklearn.metrics.pairwise import cosine_similarity\n",
        "from sentence_transformers import SentenceTransformer"
      ]
    },
    {
      "cell_type": "code",
      "execution_count": null,
      "metadata": {
        "colab": {
          "base_uri": "https://localhost:8080/"
        },
        "id": "8B92Teek4Eb8",
        "outputId": "2c0dc923-7828-4258-bc09-93dca426c9da"
      },
      "outputs": [],
      "source": [
        "!pip install pandas"
      ]
    },
    {
      "cell_type": "code",
      "execution_count": 6,
      "metadata": {
        "id": "C8GyulUm4Eb8"
      },
      "outputs": [],
      "source": [
        "import pandas as pd"
      ]
    },
    {
      "cell_type": "code",
      "execution_count": 7,
      "metadata": {
        "id": "hi9BMEP14Eb8"
      },
      "outputs": [],
      "source": [
        "def clean_df(name):\n",
        "    df = pd.read_csv(name)\n",
        "    df = df.drop(columns='Unnamed: 0')\n",
        "    return df"
      ]
    },
    {
      "cell_type": "code",
      "execution_count": 8,
      "metadata": {
        "id": "jvp-wPUC4Eb9"
      },
      "outputs": [],
      "source": [
        "def most_keywords(df):\n",
        "\n",
        "    doc = ''\n",
        "    for text_list in df['full_text']:\n",
        "        doc += (' ' + text_list)\n",
        "\n",
        "    # 형태소 분석기\n",
        "    okt = Okt()\n",
        "\n",
        "    tokenized_doc = okt.pos(doc)\n",
        "    tokenized_nouns = ' '.join([word[0] for word in tokenized_doc if word[1] == 'Noun'])\n",
        "\n",
        "    print('품사 태깅 10개만 출력 :',tokenized_doc[:10])\n",
        "    print('명사 10개만 출력 :',tokenized_nouns[:10])\n",
        "\n",
        "    # 사이킷런의 CountVectorizer를 사용하여 단어를 추출\n",
        "    n_gram_range = (1, 2)\n",
        "\n",
        "    count = CountVectorizer(ngram_range=n_gram_range).fit([tokenized_nouns])\n",
        "    candidates = count.get_feature_names_out()\n",
        "\n",
        "    print('trigram 개수 :',len(candidates))\n",
        "    print('trigram 다섯개만 출력 :',candidates[:5])\n",
        "\n",
        "    # 다국어 SBERT 로드\n",
        "    model = SentenceTransformer('sentence-transformers/xlm-r-100langs-bert-base-nli-stsb-mean-tokens')\n",
        "    doc_embedding = model.encode([doc])\n",
        "    candidate_embeddings = model.encode(candidates)\n",
        "\n",
        "    # 문서와 가장 유사한 키워드 추출\n",
        "    top_n = 100\n",
        "    distances = cosine_similarity(doc_embedding, candidate_embeddings)\n",
        "    keywords = [candidates[index] for index in distances.argsort()[0][-top_n:]]\n",
        "    print(keywords)"
      ]
    },
    {
      "cell_type": "code",
      "execution_count": 10,
      "metadata": {
        "id": "I7hV9Zsz4Eb-"
      },
      "outputs": [],
      "source": [
        "df_league = clean_df('C:\\\\Users\\\\colacan\\\\Documents\\\\GitHub\\\\League_Of_Legend_Challenges_Project\\\\tweet_list\\\\tweet_list.csv')"
      ]
    },
    {
      "cell_type": "code",
      "execution_count": 11,
      "metadata": {
        "colab": {
          "base_uri": "https://localhost:8080/"
        },
        "id": "fSl8H2574Eb-",
        "outputId": "140f2f4a-365d-4cab-eb68-c4cdf138ca9c"
      },
      "outputs": [
        {
          "name": "stdout",
          "output_type": "stream",
          "text": [
            "품사 태깅 10개만 출력 : [('@ezpz99wp', 'ScreenName'), ('리그', 'Noun'), ('오브', 'Noun'), ('레전드', 'Noun'), ('의', 'Josa'), ('조이', 'Noun'), ('이신가', 'Josa'), ('보군요', 'Verb'), ('상대', 'Noun'), ('를', 'Josa')]\n",
            "명사 10개만 출력 : 리그 오브 레전드 \n",
            "trigram 개수 : 1442\n",
            "trigram 다섯개만 출력 : ['가격' '가격 상관' '가능' '가능 가능' '가능 아주']\n",
            "['직장인', '체스', '토너먼트 레전드', '인기 교류', '시기 무리', '적수 공포', '광기 살육', '틈새시장', '레전드 욕구', '업무', '워치 리듬', '대회 생방송', '게이머', '워크래프트 철권', '시뮬레이션', '경기 재훈', '게임 레인보우', '스포츠선수', '시즌 경험', '스포츠', '컨트롤 인기', '이스포츠', '컴퓨터', '오늘 게임', '메인 게임', '공포 축구', '스포츠 페스티벌', '경기', '최대 경기', '체스 리그', '레전드 스포츠선수', '재미 사회생활', '스포츠 종목', '온라인 자택', '리듬 게임', '해설 컴퓨터', '성인 남성', '이스포츠 영향', '다른 게임', '경기 시간', '틈새시장 나름', '프로 경기', '인수 라이엇게임즈', '선수단 운영', '무리 남자', '비디오 게임', '레전드 경기', '경기 스포츠', '롤토 체스', '전반 이스포츠', '진행 게임', '로란 워크래프트', '게임 리그', '이스포츠 종주국', '하필 스포츠', '전략 게임', '라이엇게임즈', '게임 개발', '게임 배틀', '합성어 게임', '매니아 입문', '게임 주말', '스포츠선수 소리', '워크래프트', '게임 가능', '온라인 배틀', '출현 게임', '헛소리 게임', '라이엇 게임', '시뮬레이션 게임', '지식 플레이', '국산 게임', '레전드 게임', '게임', '프로게임단 협업', '프로게임단 프로게임단', '서브 게임', '프로게임단', '성공 게이머', '게임 사가', '게임 형식', '생각 이스포츠', '게임 에이펙', '게임 서코', '게임 월드', '인기 게임', '게임 사이', '멀티플레이어 온라인', '게임 해설', '게임 대회', '게임 위주', '여러가지 게임', '게임 시간대', '게임 명의', '운영 프로게임단', '요즘 경기', '남성 게임', '망겜 게임', '게임 직장인', '직장인 게임']\n"
          ]
        }
      ],
      "source": [
        "most_keywords(df_league)"
      ]
    },
    {
      "cell_type": "code",
      "execution_count": null,
      "metadata": {
        "id": "Hvv6VB8O4Eb_"
      },
      "outputs": [],
      "source": [
        "df_top = clean_df('top_list.csv')\n",
        "most_keywords(df_top)"
      ]
    },
    {
      "cell_type": "code",
      "execution_count": null,
      "metadata": {
        "id": "AyApZhT54Eb_"
      },
      "outputs": [],
      "source": [
        "df_mid = clean_df('mid_list.csv')\n",
        "most_keywords(df_mid)"
      ]
    },
    {
      "cell_type": "code",
      "execution_count": null,
      "metadata": {
        "id": "3KXWysxk4Eb_",
        "outputId": "32145cdb-4dc0-4352-eddc-efa3ebe6343f"
      },
      "outputs": [],
      "source": [
        "df_jungle = clean_df('jungle_list.csv')\n",
        "most_keywords(df_jungle)"
      ]
    },
    {
      "cell_type": "code",
      "execution_count": null,
      "metadata": {
        "id": "-QxQ50bA4EcA",
        "outputId": "24e4a749-7e5a-4a52-ff28-b0fafa73f541"
      },
      "outputs": [],
      "source": [
        "df_ad = clean_df('ad_list.csv')\n",
        "most_keywords(df_ad)"
      ]
    },
    {
      "cell_type": "code",
      "execution_count": null,
      "metadata": {
        "id": "O6yl-dUS4EcA",
        "outputId": "e89870d6-1531-46fb-f15d-60fcfaffa2ba"
      },
      "outputs": [],
      "source": [
        "df_sup = clean_df('sup_list.csv')\n",
        "most_keywords(df_sup)"
      ]
    },
    {
      "cell_type": "code",
      "execution_count": null,
      "metadata": {
        "id": "AtotRU4V4EcA"
      },
      "outputs": [],
      "source": []
    }
  ],
  "metadata": {
    "colab": {
      "name": "keybert.ipynb",
      "provenance": []
    },
    "interpreter": {
      "hash": "b6ee54670623e95be985c1c606d1439b12f63611e4e351e050e2a2d65296b5a6"
    },
    "kernelspec": {
      "display_name": "Python 3.7.13 ('section4')",
      "language": "python",
      "name": "python3"
    },
    "language_info": {
      "codemirror_mode": {
        "name": "ipython",
        "version": 3
      },
      "file_extension": ".py",
      "mimetype": "text/x-python",
      "name": "python",
      "nbconvert_exporter": "python",
      "pygments_lexer": "ipython3",
      "version": "3.7.13"
    },
    "orig_nbformat": 4
  },
  "nbformat": 4,
  "nbformat_minor": 0
}
