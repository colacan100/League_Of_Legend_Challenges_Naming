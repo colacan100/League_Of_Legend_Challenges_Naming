{
 "cells": [
  {
   "cell_type": "code",
   "execution_count": 1,
   "metadata": {},
   "outputs": [],
   "source": [
    "import pandas as pd\n",
    "\n",
    "emotion_dict = pd.read_excel('감정단어사전0603.xlsx')"
   ]
  },
  {
   "cell_type": "code",
   "execution_count": 2,
   "metadata": {},
   "outputs": [
    {
     "data": {
      "text/html": [
       "<div>\n",
       "<style scoped>\n",
       "    .dataframe tbody tr th:only-of-type {\n",
       "        vertical-align: middle;\n",
       "    }\n",
       "\n",
       "    .dataframe tbody tr th {\n",
       "        vertical-align: top;\n",
       "    }\n",
       "\n",
       "    .dataframe thead th {\n",
       "        text-align: right;\n",
       "    }\n",
       "</style>\n",
       "<table border=\"1\" class=\"dataframe\">\n",
       "  <thead>\n",
       "    <tr style=\"text-align: right;\">\n",
       "      <th></th>\n",
       "      <th>일련번호</th>\n",
       "      <th>단어</th>\n",
       "      <th>감정범주</th>\n",
       "      <th>빈도</th>\n",
       "      <th>감정정도M</th>\n",
       "      <th>감정정도STD</th>\n",
       "    </tr>\n",
       "  </thead>\n",
       "  <tbody>\n",
       "    <tr>\n",
       "      <th>0</th>\n",
       "      <td>1</td>\n",
       "      <td>가관이다</td>\n",
       "      <td>혐오</td>\n",
       "      <td>47.5</td>\n",
       "      <td>4.95</td>\n",
       "      <td>2.46</td>\n",
       "    </tr>\n",
       "    <tr>\n",
       "      <th>1</th>\n",
       "      <td>2</td>\n",
       "      <td>가련하다</td>\n",
       "      <td>슬픔</td>\n",
       "      <td>88.8</td>\n",
       "      <td>5.62</td>\n",
       "      <td>2.36</td>\n",
       "    </tr>\n",
       "    <tr>\n",
       "      <th>2</th>\n",
       "      <td>3</td>\n",
       "      <td>가뿐하다</td>\n",
       "      <td>기쁨</td>\n",
       "      <td>81.3</td>\n",
       "      <td>5.36</td>\n",
       "      <td>2.89</td>\n",
       "    </tr>\n",
       "    <tr>\n",
       "      <th>3</th>\n",
       "      <td>4</td>\n",
       "      <td>가소롭다</td>\n",
       "      <td>혐오</td>\n",
       "      <td>46.3</td>\n",
       "      <td>4.82</td>\n",
       "      <td>1.81</td>\n",
       "    </tr>\n",
       "    <tr>\n",
       "      <th>4</th>\n",
       "      <td>5</td>\n",
       "      <td>가슴아프다</td>\n",
       "      <td>슬픔</td>\n",
       "      <td>93.8</td>\n",
       "      <td>7.62</td>\n",
       "      <td>2.14</td>\n",
       "    </tr>\n",
       "    <tr>\n",
       "      <th>...</th>\n",
       "      <td>...</td>\n",
       "      <td>...</td>\n",
       "      <td>...</td>\n",
       "      <td>...</td>\n",
       "      <td>...</td>\n",
       "      <td>...</td>\n",
       "    </tr>\n",
       "    <tr>\n",
       "      <th>423</th>\n",
       "      <td>424</td>\n",
       "      <td>흥분하다</td>\n",
       "      <td>분노</td>\n",
       "      <td>56.3</td>\n",
       "      <td>6.72</td>\n",
       "      <td>2.71</td>\n",
       "    </tr>\n",
       "    <tr>\n",
       "      <th>424</th>\n",
       "      <td>425</td>\n",
       "      <td>희희낙락하다</td>\n",
       "      <td>기쁨</td>\n",
       "      <td>95.0</td>\n",
       "      <td>7.14</td>\n",
       "      <td>2.40</td>\n",
       "    </tr>\n",
       "    <tr>\n",
       "      <th>425</th>\n",
       "      <td>426</td>\n",
       "      <td>히죽거리다</td>\n",
       "      <td>기쁨</td>\n",
       "      <td>83.8</td>\n",
       "      <td>5.61</td>\n",
       "      <td>2.75</td>\n",
       "    </tr>\n",
       "    <tr>\n",
       "      <th>426</th>\n",
       "      <td>427</td>\n",
       "      <td>히죽거리다</td>\n",
       "      <td>기쁨</td>\n",
       "      <td>83.8</td>\n",
       "      <td>5.61</td>\n",
       "      <td>2.75</td>\n",
       "    </tr>\n",
       "    <tr>\n",
       "      <th>427</th>\n",
       "      <td>428</td>\n",
       "      <td>히히</td>\n",
       "      <td>기쁨</td>\n",
       "      <td>95.0</td>\n",
       "      <td>5.76</td>\n",
       "      <td>2.87</td>\n",
       "    </tr>\n",
       "  </tbody>\n",
       "</table>\n",
       "<p>428 rows × 6 columns</p>\n",
       "</div>"
      ],
      "text/plain": [
       "     일련번호      단어 감정범주    빈도  감정정도M  감정정도STD\n",
       "0       1    가관이다   혐오  47.5   4.95     2.46\n",
       "1       2    가련하다   슬픔  88.8   5.62     2.36\n",
       "2       3    가뿐하다   기쁨  81.3   5.36     2.89\n",
       "3       4    가소롭다   혐오  46.3   4.82     1.81\n",
       "4       5   가슴아프다   슬픔  93.8   7.62     2.14\n",
       "..    ...     ...  ...   ...    ...      ...\n",
       "423   424    흥분하다   분노  56.3   6.72     2.71\n",
       "424   425  희희낙락하다   기쁨  95.0   7.14     2.40\n",
       "425   426   히죽거리다   기쁨  83.8   5.61     2.75\n",
       "426   427   히죽거리다   기쁨  83.8   5.61     2.75\n",
       "427   428      히히   기쁨  95.0   5.76     2.87\n",
       "\n",
       "[428 rows x 6 columns]"
      ]
     },
     "execution_count": 2,
     "metadata": {},
     "output_type": "execute_result"
    }
   ],
   "source": [
    "emotion_dict"
   ]
  },
  {
   "cell_type": "code",
   "execution_count": 12,
   "metadata": {},
   "outputs": [],
   "source": [
    "emotion_fear = emotion_dict.groupby('감정범주').get_group('공포')\n",
    "emotion_surprised = emotion_dict.groupby('감정범주').get_group('놀람')\n",
    "emotion_anger = emotion_dict.groupby('감정범주').get_group('분노')\n",
    "emotion_sadness = emotion_dict.groupby('감정범주').get_group('슬픔')\n",
    "emotion_neutral = emotion_dict.groupby('감정범주').get_group('중성')\n",
    "emotion_happiness = emotion_dict.groupby('감정범주').get_group('기쁨')\n",
    "emotion_aversion = emotion_dict.groupby('감정범주').get_group('혐오')"
   ]
  },
  {
   "cell_type": "code",
   "execution_count": 17,
   "metadata": {},
   "outputs": [
    {
     "data": {
      "text/plain": [
       "255    안절부절하다\n",
       "Name: 단어, dtype: object"
      ]
     },
     "execution_count": 17,
     "metadata": {},
     "output_type": "execute_result"
    }
   ],
   "source": [
    "emotion_fear['단어'].sample(n=1)"
   ]
  },
  {
   "cell_type": "code",
   "execution_count": 21,
   "metadata": {},
   "outputs": [],
   "source": [
    "total_emotion = pd.read_csv('C:\\\\Users\\\\colacan\\\\Documents\\\\GitHub\\\\League_Of_Legend_Challenges_Project\\\\emotion_list\\\\total_emotion.csv')"
   ]
  },
  {
   "cell_type": "code",
   "execution_count": 25,
   "metadata": {},
   "outputs": [],
   "source": [
    "total_emotion = total_emotion.drop(columns=['Unnamed: 0.1','Unnamed: 0'])"
   ]
  },
  {
   "cell_type": "code",
   "execution_count": null,
   "metadata": {},
   "outputs": [],
   "source": []
  }
 ],
 "metadata": {
  "interpreter": {
   "hash": "f1d1ca04bcf6d8a22391b842d1bb739acd183735045253f19b5d1acca0a11b0e"
  },
  "kernelspec": {
   "display_name": "Python 3.8.13 ('leagueoflegend')",
   "language": "python",
   "name": "python3"
  },
  "language_info": {
   "codemirror_mode": {
    "name": "ipython",
    "version": 3
   },
   "file_extension": ".py",
   "mimetype": "text/x-python",
   "name": "python",
   "nbconvert_exporter": "python",
   "pygments_lexer": "ipython3",
   "version": "3.8.13"
  },
  "orig_nbformat": 4
 },
 "nbformat": 4,
 "nbformat_minor": 2
}
