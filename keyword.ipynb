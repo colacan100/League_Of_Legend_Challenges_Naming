{
 "cells": [
  {
   "cell_type": "code",
   "execution_count": 5,
   "metadata": {},
   "outputs": [],
   "source": [
    "# konlpy 관련 참고링크\n",
    "# https://velog.io/@soo-im/konlpy-%EC%84%A4%EC%B9%98-%EC%97%90%EB%9F%AC-%ED%95%B4%EA%B2%B0%EC%B1%85-%EC%95%84%EB%82%98%EC%BD%98%EB%8B%A4-JPYPE"
   ]
  },
  {
   "cell_type": "code",
   "execution_count": 20,
   "metadata": {},
   "outputs": [
    {
     "name": "stdout",
     "output_type": "stream",
     "text": [
      "Processing c:\\users\\colacan\\documents\\github\\league_of_legend_challenges_project\\jpype1-1.1.2-cp38-cp38-win_amd64.whl\n",
      "JPype1 is already installed with the same version as the provided wheel. Use --force-reinstall to force an installation of the wheel.\n"
     ]
    }
   ],
   "source": [
    "!pip install JPype1-1.1.2-cp38-cp38-win_amd64.whl"
   ]
  },
  {
   "cell_type": "code",
   "execution_count": null,
   "metadata": {},
   "outputs": [],
   "source": [
    "!pip install sentence_transformers\n",
    "!pip install konlpy"
   ]
  },
  {
   "cell_type": "code",
   "execution_count": 22,
   "metadata": {},
   "outputs": [],
   "source": [
    "import numpy as np\n",
    "import itertools\n",
    "\n",
    "from konlpy.tag import Okt\n",
    "from sklearn.feature_extraction.text import CountVectorizer\n",
    "from sklearn.metrics.pairwise import cosine_similarity\n",
    "from sentence_transformers import SentenceTransformer"
   ]
  },
  {
   "cell_type": "code",
   "execution_count": 23,
   "metadata": {},
   "outputs": [],
   "source": [
    "doc = \"\"\"\n",
    "드론 활용 범위도 점차 확대되고 있다. 최근에는 미세먼지 관리에 드론이 활용되고 있다.\n",
    "서울시는 '미세먼지 계절관리제' 기간인 지난달부터 오는 3월까지 4개월간 드론에 측정장치를 달아 미세먼지 집중 관리를 실시하고 있다.\n",
    "드론은 산업단지와 사업장 밀집지역을 날아다니며 미세먼지 배출 수치를 점검하고, 현장 모습을 영상으로 담는다.\n",
    "영상을 통해 미세먼지 방지 시설을 제대로 가동하지 않는 업체와 무허가 시설에 대한 단속이 한층 수월해질 전망이다.\n",
    "드론 활용에 가장 적극적인 소방청은 광범위하고 복합적인 재난 대응 차원에서 드론과 관련 전문인력 보강을 꾸준히 이어가고 있다.\n",
    "지난해 말 기준 소방청이 보유한 드론은 총 304대, 드론 조종 자격증을 갖춘 소방대원의 경우 1,860명이다.\n",
    "이 중 실기평가지도 자격증까지 갖춘 ‘드론 전문가’ 21명도 배치돼 있다.\n",
    "소방청 관계자는 \"소방드론은 재난현장에서 영상정보를 수집, 산악ㆍ수난 사고 시 인명수색·구조활동,\n",
    "유독가스·폭발사고 시 대원안전 확보 등에 활용된다\"며\n",
    "\"향후 화재진압, 인명구조 등에도 드론을 활용하기 위해 연구개발(R&D)을 하고 있다\"고 말했다.\n",
    "\"\"\""
   ]
  },
  {
   "cell_type": "code",
   "execution_count": 25,
   "metadata": {},
   "outputs": [
    {
     "ename": "JVMNotFoundException",
     "evalue": "No JVM shared library file (jvm.dll) found. Try setting up the JAVA_HOME environment variable properly.",
     "output_type": "error",
     "traceback": [
      "\u001b[1;31m---------------------------------------------------------------------------\u001b[0m",
      "\u001b[1;31mJVMNotFoundException\u001b[0m                      Traceback (most recent call last)",
      "\u001b[1;32mc:\\Users\\colacan\\Documents\\GitHub\\League_Of_Legend_Challenges_Project\\keyword.ipynb Cell 6'\u001b[0m in \u001b[0;36m<cell line: 2>\u001b[1;34m()\u001b[0m\n\u001b[0;32m      <a href='vscode-notebook-cell:/c%3A/Users/colacan/Documents/GitHub/League_Of_Legend_Challenges_Project/keyword.ipynb#ch0000013?line=0'>1</a>\u001b[0m \u001b[39m# 형태소 분석기\u001b[39;00m\n\u001b[1;32m----> <a href='vscode-notebook-cell:/c%3A/Users/colacan/Documents/GitHub/League_Of_Legend_Challenges_Project/keyword.ipynb#ch0000013?line=1'>2</a>\u001b[0m okt \u001b[39m=\u001b[39m Okt()\n\u001b[0;32m      <a href='vscode-notebook-cell:/c%3A/Users/colacan/Documents/GitHub/League_Of_Legend_Challenges_Project/keyword.ipynb#ch0000013?line=3'>4</a>\u001b[0m tokenized_doc \u001b[39m=\u001b[39m okt\u001b[39m.\u001b[39mpos(doc)\n\u001b[0;32m      <a href='vscode-notebook-cell:/c%3A/Users/colacan/Documents/GitHub/League_Of_Legend_Challenges_Project/keyword.ipynb#ch0000013?line=4'>5</a>\u001b[0m tokenized_nouns \u001b[39m=\u001b[39m \u001b[39m'\u001b[39m\u001b[39m \u001b[39m\u001b[39m'\u001b[39m\u001b[39m.\u001b[39mjoin([word[\u001b[39m0\u001b[39m] \u001b[39mfor\u001b[39;00m word \u001b[39min\u001b[39;00m tokenized_doc \u001b[39mif\u001b[39;00m word[\u001b[39m1\u001b[39m] \u001b[39m==\u001b[39m \u001b[39m'\u001b[39m\u001b[39mNoun\u001b[39m\u001b[39m'\u001b[39m])\n",
      "File \u001b[1;32mc:\\Users\\colacan\\anaconda3\\envs\\leagueoflegend\\lib\\site-packages\\konlpy\\tag\\_okt.py:51\u001b[0m, in \u001b[0;36mOkt.__init__\u001b[1;34m(self, jvmpath, max_heap_size)\u001b[0m\n\u001b[0;32m     <a href='file:///c%3A/Users/colacan/anaconda3/envs/leagueoflegend/lib/site-packages/konlpy/tag/_okt.py?line=48'>49</a>\u001b[0m \u001b[39mdef\u001b[39;00m \u001b[39m__init__\u001b[39m(\u001b[39mself\u001b[39m, jvmpath\u001b[39m=\u001b[39m\u001b[39mNone\u001b[39;00m, max_heap_size\u001b[39m=\u001b[39m\u001b[39m1024\u001b[39m):\n\u001b[0;32m     <a href='file:///c%3A/Users/colacan/anaconda3/envs/leagueoflegend/lib/site-packages/konlpy/tag/_okt.py?line=49'>50</a>\u001b[0m     \u001b[39mif\u001b[39;00m \u001b[39mnot\u001b[39;00m jpype\u001b[39m.\u001b[39misJVMStarted():\n\u001b[1;32m---> <a href='file:///c%3A/Users/colacan/anaconda3/envs/leagueoflegend/lib/site-packages/konlpy/tag/_okt.py?line=50'>51</a>\u001b[0m         jvm\u001b[39m.\u001b[39;49minit_jvm(jvmpath, max_heap_size)\n\u001b[0;32m     <a href='file:///c%3A/Users/colacan/anaconda3/envs/leagueoflegend/lib/site-packages/konlpy/tag/_okt.py?line=52'>53</a>\u001b[0m     oktJavaPackage \u001b[39m=\u001b[39m jpype\u001b[39m.\u001b[39mJPackage(\u001b[39m'\u001b[39m\u001b[39mkr.lucypark.okt\u001b[39m\u001b[39m'\u001b[39m)\n\u001b[0;32m     <a href='file:///c%3A/Users/colacan/anaconda3/envs/leagueoflegend/lib/site-packages/konlpy/tag/_okt.py?line=53'>54</a>\u001b[0m     OktInterfaceJavaClass \u001b[39m=\u001b[39m oktJavaPackage\u001b[39m.\u001b[39mOktInterface\n",
      "File \u001b[1;32mc:\\Users\\colacan\\anaconda3\\envs\\leagueoflegend\\lib\\site-packages\\konlpy\\jvm.py:55\u001b[0m, in \u001b[0;36minit_jvm\u001b[1;34m(jvmpath, max_heap_size)\u001b[0m\n\u001b[0;32m     <a href='file:///c%3A/Users/colacan/anaconda3/envs/leagueoflegend/lib/site-packages/konlpy/jvm.py?line=51'>52</a>\u001b[0m args \u001b[39m=\u001b[39m [javadir, os\u001b[39m.\u001b[39msep]\n\u001b[0;32m     <a href='file:///c%3A/Users/colacan/anaconda3/envs/leagueoflegend/lib/site-packages/konlpy/jvm.py?line=52'>53</a>\u001b[0m classpath \u001b[39m=\u001b[39m [f\u001b[39m.\u001b[39mformat(\u001b[39m*\u001b[39margs) \u001b[39mfor\u001b[39;00m f \u001b[39min\u001b[39;00m folder_suffix]\n\u001b[1;32m---> <a href='file:///c%3A/Users/colacan/anaconda3/envs/leagueoflegend/lib/site-packages/konlpy/jvm.py?line=54'>55</a>\u001b[0m jvmpath \u001b[39m=\u001b[39m jvmpath \u001b[39mor\u001b[39;00m jpype\u001b[39m.\u001b[39;49mgetDefaultJVMPath()\n\u001b[0;32m     <a href='file:///c%3A/Users/colacan/anaconda3/envs/leagueoflegend/lib/site-packages/konlpy/jvm.py?line=56'>57</a>\u001b[0m \u001b[39m# NOTE: Temporary patch for Issue #76. Erase when possible.\u001b[39;00m\n\u001b[0;32m     <a href='file:///c%3A/Users/colacan/anaconda3/envs/leagueoflegend/lib/site-packages/konlpy/jvm.py?line=57'>58</a>\u001b[0m \u001b[39mif\u001b[39;00m sys\u001b[39m.\u001b[39mplatform \u001b[39m==\u001b[39m \u001b[39m'\u001b[39m\u001b[39mdarwin\u001b[39m\u001b[39m'\u001b[39m\\\n\u001b[0;32m     <a href='file:///c%3A/Users/colacan/anaconda3/envs/leagueoflegend/lib/site-packages/konlpy/jvm.py?line=58'>59</a>\u001b[0m         \u001b[39mand\u001b[39;00m jvmpath\u001b[39m.\u001b[39mfind(\u001b[39m'\u001b[39m\u001b[39m1.8.0\u001b[39m\u001b[39m'\u001b[39m) \u001b[39m>\u001b[39m \u001b[39m0\u001b[39m\\\n\u001b[0;32m     <a href='file:///c%3A/Users/colacan/anaconda3/envs/leagueoflegend/lib/site-packages/konlpy/jvm.py?line=59'>60</a>\u001b[0m         \u001b[39mand\u001b[39;00m jvmpath\u001b[39m.\u001b[39mendswith(\u001b[39m'\u001b[39m\u001b[39mlibjvm.dylib\u001b[39m\u001b[39m'\u001b[39m):\n",
      "File \u001b[1;32mc:\\Users\\colacan\\anaconda3\\envs\\leagueoflegend\\lib\\site-packages\\jpype\\_jvmfinder.py:74\u001b[0m, in \u001b[0;36mgetDefaultJVMPath\u001b[1;34m()\u001b[0m\n\u001b[0;32m     <a href='file:///c%3A/Users/colacan/anaconda3/envs/leagueoflegend/lib/site-packages/jpype/_jvmfinder.py?line=71'>72</a>\u001b[0m \u001b[39melse\u001b[39;00m:\n\u001b[0;32m     <a href='file:///c%3A/Users/colacan/anaconda3/envs/leagueoflegend/lib/site-packages/jpype/_jvmfinder.py?line=72'>73</a>\u001b[0m     finder \u001b[39m=\u001b[39m LinuxJVMFinder()\n\u001b[1;32m---> <a href='file:///c%3A/Users/colacan/anaconda3/envs/leagueoflegend/lib/site-packages/jpype/_jvmfinder.py?line=73'>74</a>\u001b[0m \u001b[39mreturn\u001b[39;00m finder\u001b[39m.\u001b[39;49mget_jvm_path()\n",
      "File \u001b[1;32mc:\\Users\\colacan\\anaconda3\\envs\\leagueoflegend\\lib\\site-packages\\jpype\\_jvmfinder.py:212\u001b[0m, in \u001b[0;36mJVMFinder.get_jvm_path\u001b[1;34m(self)\u001b[0m\n\u001b[0;32m    <a href='file:///c%3A/Users/colacan/anaconda3/envs/leagueoflegend/lib/site-packages/jpype/_jvmfinder.py?line=209'>210</a>\u001b[0m \u001b[39mif\u001b[39;00m jvm_notsupport_ext \u001b[39mis\u001b[39;00m \u001b[39mnot\u001b[39;00m \u001b[39mNone\u001b[39;00m:\n\u001b[0;32m    <a href='file:///c%3A/Users/colacan/anaconda3/envs/leagueoflegend/lib/site-packages/jpype/_jvmfinder.py?line=210'>211</a>\u001b[0m     \u001b[39mraise\u001b[39;00m jvm_notsupport_ext\n\u001b[1;32m--> <a href='file:///c%3A/Users/colacan/anaconda3/envs/leagueoflegend/lib/site-packages/jpype/_jvmfinder.py?line=211'>212</a>\u001b[0m \u001b[39mraise\u001b[39;00m JVMNotFoundException(\u001b[39m\"\u001b[39m\u001b[39mNo JVM shared library file (\u001b[39m\u001b[39m{0}\u001b[39;00m\u001b[39m) \u001b[39m\u001b[39m\"\u001b[39m\n\u001b[0;32m    <a href='file:///c%3A/Users/colacan/anaconda3/envs/leagueoflegend/lib/site-packages/jpype/_jvmfinder.py?line=212'>213</a>\u001b[0m                            \u001b[39m\"\u001b[39m\u001b[39mfound. Try setting up the JAVA_HOME \u001b[39m\u001b[39m\"\u001b[39m\n\u001b[0;32m    <a href='file:///c%3A/Users/colacan/anaconda3/envs/leagueoflegend/lib/site-packages/jpype/_jvmfinder.py?line=213'>214</a>\u001b[0m                            \u001b[39m\"\u001b[39m\u001b[39menvironment variable properly.\u001b[39m\u001b[39m\"\u001b[39m\n\u001b[0;32m    <a href='file:///c%3A/Users/colacan/anaconda3/envs/leagueoflegend/lib/site-packages/jpype/_jvmfinder.py?line=214'>215</a>\u001b[0m                            \u001b[39m.\u001b[39mformat(\u001b[39mself\u001b[39m\u001b[39m.\u001b[39m_libfile))\n",
      "\u001b[1;31mJVMNotFoundException\u001b[0m: No JVM shared library file (jvm.dll) found. Try setting up the JAVA_HOME environment variable properly."
     ]
    }
   ],
   "source": [
    "# 형태소 분석기\n",
    "okt = Okt()\n",
    "\n",
    "tokenized_doc = okt.pos(doc)\n",
    "tokenized_nouns = ' '.join([word[0] for word in tokenized_doc if word[1] == 'Noun'])\n",
    "\n",
    "print('품사 태깅 10개만 출력 :',tokenized_doc[:10])\n",
    "print('명사 추출 :',tokenized_nouns)"
   ]
  },
  {
   "cell_type": "code",
   "execution_count": null,
   "metadata": {},
   "outputs": [],
   "source": []
  },
  {
   "cell_type": "code",
   "execution_count": null,
   "metadata": {},
   "outputs": [],
   "source": []
  }
 ],
 "metadata": {
  "interpreter": {
   "hash": "f1d1ca04bcf6d8a22391b842d1bb739acd183735045253f19b5d1acca0a11b0e"
  },
  "kernelspec": {
   "display_name": "Python 3.8.13 ('leagueoflegend')",
   "language": "python",
   "name": "python3"
  },
  "language_info": {
   "codemirror_mode": {
    "name": "ipython",
    "version": 3
   },
   "file_extension": ".py",
   "mimetype": "text/x-python",
   "name": "python",
   "nbconvert_exporter": "python",
   "pygments_lexer": "ipython3",
   "version": "3.8.13"
  },
  "orig_nbformat": 4
 },
 "nbformat": 4,
 "nbformat_minor": 2
}
