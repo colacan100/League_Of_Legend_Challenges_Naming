{
 "cells": [
  {
   "cell_type": "code",
   "execution_count": null,
   "metadata": {},
   "outputs": [],
   "source": [
    "!pip install bs4"
   ]
  },
  {
   "cell_type": "code",
   "execution_count": 5,
   "metadata": {},
   "outputs": [],
   "source": [
    "#크롤링시 필요한 라이브러리 불러오기\n",
    "from bs4 import BeautifulSoup\n",
    "import requests\n",
    "import time"
   ]
  },
  {
   "cell_type": "code",
   "execution_count": 11,
   "metadata": {},
   "outputs": [],
   "source": [
    "headers = {\"user-agent\": \"Mozilla/5.0 (Windows NT 10.0; Win64; x64) AppleWebKit/537.36 (KHTML, like Gecko) Chrome/101.0.4951.67 Safari/537.36\"}"
   ]
  },
  {
   "cell_type": "code",
   "execution_count": 12,
   "metadata": {},
   "outputs": [],
   "source": [
    "def new_crawl(search,page):\n",
    "        #start수를 1, 11, 21, 31 ...만들어 주는 함수\n",
    "    page_num = 0\n",
    "\n",
    "    if page == 1:\n",
    "        page_num =1\n",
    "    elif page == 0:\n",
    "        page_num =1\n",
    "    else:\n",
    "        page_num = page+9*(page-1)\n",
    "        \n",
    "    #url 생성\n",
    "    url = \"https://search.naver.com/search.naver?where=news&sm=tab_pge&query=\" + search + \"&start=\" + str(page_num)\n",
    "\n",
    "    # ConnectionError방지\n",
    "    headers = { \"User-Agent\": \"Mozilla/5.0 (Windows NT 10.0; Win64; x64) Chrome/100.0.48496.75\" }\n",
    "\n",
    "    #html불러오기\n",
    "    original_html = requests.get(url, headers=headers)\n",
    "    html = BeautifulSoup(original_html.text, \"html.parser\")\n",
    "\n",
    "    # 검색결과\n",
    "    articles = html.select(\"div.group_news > ul.list_news > li div.news_area > a\")\n",
    "\n",
    "    #뉴스기사 제목 가져오기\n",
    "    news_title = []\n",
    "    for i in articles:\n",
    "        news_title.append(i.attrs['title'])\n",
    "\n",
    "    #뉴스기사 URL 가져오기\n",
    "    news_url = []\n",
    "    for i in articles:\n",
    "        news_url.append(i.attrs['href'])\n",
    "\n",
    "    #뉴스기사 내용 크롤링하기\n",
    "    contents = []\n",
    "    for i in news_url:\n",
    "        #각 기사 html get하기\n",
    "        news = requests.get(i, headers=headers)\n",
    "        news_html = BeautifulSoup(news.text,\"html.parser\")\n",
    "        #기사 내용 가져오기 (p태그의 내용 모두 가져오기) \n",
    "        contents.append(news_html.find_all('p'))\n",
    "\n",
    "    return news_title,news_url,contents"
   ]
  },
  {
   "cell_type": "code",
   "execution_count": 13,
   "metadata": {},
   "outputs": [],
   "source": [
    "contents = []"
   ]
  },
  {
   "cell_type": "code",
   "execution_count": null,
   "metadata": {},
   "outputs": [],
   "source": [
    "count = 1\n",
    "for i in range(10000):\n",
    "    if count % 20 ==0:\n",
    "        print(count, 'sleep')\n",
    "        time.sleep(300)\n",
    "        count +=1\n",
    "    contents.extend(new_crawl('리그오브레전드',i))\n",
    "    print(count, 'clear')\n",
    "    count +=1"
   ]
  },
  {
   "cell_type": "code",
   "execution_count": 16,
   "metadata": {},
   "outputs": [
    {
     "data": {
      "text/plain": [
       "528"
      ]
     },
     "execution_count": 16,
     "metadata": {},
     "output_type": "execute_result"
    }
   ],
   "source": [
    "len(contents)"
   ]
  },
  {
   "cell_type": "code",
   "execution_count": 17,
   "metadata": {},
   "outputs": [
    {
     "name": "stdout",
     "output_type": "stream",
     "text": [
      "Collecting pandas\n",
      "  Using cached pandas-1.4.2-cp38-cp38-win_amd64.whl (10.6 MB)\n",
      "Collecting pytz>=2020.1\n",
      "  Using cached pytz-2022.1-py2.py3-none-any.whl (503 kB)\n",
      "Requirement already satisfied: numpy>=1.18.5 in c:\\users\\colacan\\anaconda3\\envs\\leagueoflegend\\lib\\site-packages (from pandas) (1.22.3)\n",
      "Requirement already satisfied: python-dateutil>=2.8.1 in c:\\users\\colacan\\anaconda3\\envs\\leagueoflegend\\lib\\site-packages (from pandas) (2.8.2)\n",
      "Requirement already satisfied: six>=1.5 in c:\\users\\colacan\\anaconda3\\envs\\leagueoflegend\\lib\\site-packages (from python-dateutil>=2.8.1->pandas) (1.16.0)\n",
      "Installing collected packages: pytz, pandas\n",
      "Successfully installed pandas-1.4.2 pytz-2022.1\n"
     ]
    }
   ],
   "source": [
    "!pip install pandas"
   ]
  },
  {
   "cell_type": "code",
   "execution_count": 19,
   "metadata": {},
   "outputs": [],
   "source": [
    "import pandas as pd\n",
    "df = pd.DataFrame(contents)"
   ]
  },
  {
   "cell_type": "code",
   "execution_count": null,
   "metadata": {},
   "outputs": [],
   "source": []
  }
 ],
 "metadata": {
  "interpreter": {
   "hash": "f1d1ca04bcf6d8a22391b842d1bb739acd183735045253f19b5d1acca0a11b0e"
  },
  "kernelspec": {
   "display_name": "Python 3.8.13 ('leagueoflegend')",
   "language": "python",
   "name": "python3"
  },
  "language_info": {
   "codemirror_mode": {
    "name": "ipython",
    "version": 3
   },
   "file_extension": ".py",
   "mimetype": "text/x-python",
   "name": "python",
   "nbconvert_exporter": "python",
   "pygments_lexer": "ipython3",
   "version": "3.8.13"
  },
  "orig_nbformat": 4
 },
 "nbformat": 4,
 "nbformat_minor": 2
}
