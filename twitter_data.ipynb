{
 "cells": [
  {
   "cell_type": "code",
   "execution_count": null,
   "metadata": {},
   "outputs": [],
   "source": [
    "!pip install tweepy\n",
    "!pip install pandas"
   ]
  },
  {
   "cell_type": "code",
   "execution_count": 18,
   "metadata": {},
   "outputs": [],
   "source": [
    "from tqdm import tqdm\n",
    "import pandas as pd\n",
    "import tweepy\n",
    "from pytz import timezone\n",
    "from datetime import datetime\n",
    "import pandas as pd"
   ]
  },
  {
   "cell_type": "code",
   "execution_count": 19,
   "metadata": {},
   "outputs": [],
   "source": [
    "def get_api():\n",
    "    consumer_key = \"o5RkzZCWRv82BO3Q7Ou6g3gP6\"\n",
    "    consumer_secret = \"ZkhVNVnl2AbiXcQNfFg3nyUujC8Im3dsaLWkTgtxY8bPMFWnFm\"  \n",
    "    access_token = \"1511161028247138313-qJlKodPZHwX6CNHKhfkrVBRO57pj92\"\n",
    "    access_token_secret = \"CTkfZ2vMesebR87k7i46T7qcSUqdOIv5oPmmjNS8XFxnX\"\n",
    "\n",
    "    auth = tweepy.OAuthHandler(consumer_key, consumer_secret)\n",
    "    auth.set_access_token(access_token, access_token_secret)\n",
    "    api = tweepy.API(auth,wait_on_rate_limit=True)\n",
    "    \n",
    "    return api"
   ]
  },
  {
   "cell_type": "code",
   "execution_count": 20,
   "metadata": {},
   "outputs": [],
   "source": [
    "def get_data(keyword, number, day):\n",
    "    api = get_api()\n",
    "    tweets = tweepy.Cursor(api.search_tweets, q = keyword, tweet_mode = \"extended\", until=day).items(number)\n",
    "    results = []\n",
    "    for tweet in tqdm(tweets):\n",
    "        results.append(tweet._json)\n",
    "    return results"
   ]
  },
  {
   "cell_type": "code",
   "execution_count": 21,
   "metadata": {},
   "outputs": [],
   "source": [
    "def exclude_spam(keyword,number,day):\n",
    "    results = get_data(keyword,number,day)\n",
    "    full_text = []\n",
    "    for result in results:\n",
    "        if 'retweeted_status' in result: # 중복제거 : retweet인 경우\n",
    "            data = result['retweeted_status']\n",
    "            if 'https://' in data['full_text']: # 스팸제거1 : https:// 포함시 필터\n",
    "                continue\n",
    "            else:\n",
    "                if '\\n' in data['full_text']: #스팸제거2 : 줄바꿈 문자 포함 중 조건에 맞지 않는 것 필터\n",
    "                    if (len(data['full_text']) / data['full_text'].count('\\n')) >= 10 and data['user']['followers_count'] > 20:\n",
    "                        full_text.append({\n",
    "                            'id_str':data['id_str'],\n",
    "                            'screen_name':result['entities']['user_mentions'][0]['screen_name'],\n",
    "                            'full_text':data['full_text'],\n",
    "                            'retweeted':1\n",
    "                        })\n",
    "                    else:\n",
    "                        continue\n",
    "                else:\n",
    "                    full_text.append({\n",
    "                        'id_str':data['id_str'],\n",
    "                        'screen_name':result['entities']['user_mentions'][0]['screen_name'],\n",
    "                        'full_text':data['full_text'],\n",
    "                        'retweeted':1\n",
    "                    })\n",
    "        else:\n",
    "            if 'https://' in result['full_text']: #스팸제거1 : https:// 포함시 필터\n",
    "                continue\n",
    "            else:\n",
    "                if '\\n' in result['full_text']: #스팸제거2 : 줄바꿈 문자 포함 중 조건에 맞지 않는 것 필터\n",
    "                    if (len(result['full_text']) / result['full_text'].count('\\n')) >= 10 and result['user']['followers_count'] > 20:\n",
    "                        full_text.append({\n",
    "                            'id_str':result['user']['id_str'],\n",
    "                            'screen_name':result['user']['screen_name'],\n",
    "                            'full_text':result['full_text'],\n",
    "                            'retweeted':0\n",
    "                        })\n",
    "                    else:\n",
    "                        continue\n",
    "                else:\n",
    "                    full_text.append({\n",
    "                            'id_str':result['user']['id_str'],\n",
    "                            'screen_name':result['user']['screen_name'],\n",
    "                            'full_text':result['full_text'],\n",
    "                            'retweeted':0\n",
    "                        })\n",
    "    return full_text"
   ]
  },
  {
   "cell_type": "code",
   "execution_count": 25,
   "metadata": {},
   "outputs": [],
   "source": [
    "from datetime import datetime, timedelta \n",
    "import time\n",
    "\n",
    "def for_time(start,last,text):\n",
    "    tweet_list = []\n",
    "    count = 1\n",
    "    # 시작일, 종료일 datetime 으로 변환 \n",
    "    start_date = datetime.strptime(start, \"%Y-%m-%d\") \n",
    "    last_date = datetime.strptime(last, \"%Y-%m-%d\") \n",
    "    # 종료일 까지 반복 \n",
    "    while start_date <= last_date:\n",
    "        dates = start_date.strftime(\"%Y-%m-%d\") \n",
    "        tweet_list.extend(exclude_spam(text,10000, dates))\n",
    "        print('part',count,'clear')\n",
    "        count += 1\n",
    "        start_date += timedelta(days=1)\n",
    "    return tweet_list"
   ]
  },
  {
   "cell_type": "code",
   "execution_count": null,
   "metadata": {},
   "outputs": [],
   "source": [
    "tweet_korean = for_time('2022-05-13','2022-05-20','리그오브레전드')\n",
    "df_korean = pd.DataFrame(tweet_korean, columns=['id_str', 'screen_name', 'full_text', 'retweeted'])\n",
    "df_korean.to_csv('tweet_list.csv')"
   ]
  },
  {
   "cell_type": "code",
   "execution_count": null,
   "metadata": {},
   "outputs": [],
   "source": [
    "tweet_top = for_time('2022-05-13','2022-05-20','롤 탑')\n",
    "df_top = pd.DataFrame(tweet_top, columns=['id_str', 'screen_name', 'full_text', 'retweeted'])\n",
    "df_top.to_csv('top_list.csv')"
   ]
  },
  {
   "cell_type": "code",
   "execution_count": null,
   "metadata": {},
   "outputs": [],
   "source": [
    "tweet_mid = for_time('2022-05-13','2022-05-20','롤 미드')\n",
    "df_mid = pd.DataFrame(tweet_mid, columns=['id_str', 'screen_name', 'full_text', 'retweeted'])\n",
    "df_mid.to_csv('mid_list.csv')"
   ]
  },
  {
   "cell_type": "code",
   "execution_count": 40,
   "metadata": {},
   "outputs": [
    {
     "name": "stderr",
     "output_type": "stream",
     "text": [
      "4it [00:01,  2.89it/s]\n"
     ]
    },
    {
     "name": "stdout",
     "output_type": "stream",
     "text": [
      "part 1 clear\n"
     ]
    },
    {
     "name": "stderr",
     "output_type": "stream",
     "text": [
      "17it [00:02,  8.10it/s]\n"
     ]
    },
    {
     "name": "stdout",
     "output_type": "stream",
     "text": [
      "part 2 clear\n"
     ]
    },
    {
     "name": "stderr",
     "output_type": "stream",
     "text": [
      "26it [00:02, 11.82it/s]\n"
     ]
    },
    {
     "name": "stdout",
     "output_type": "stream",
     "text": [
      "part 3 clear\n"
     ]
    },
    {
     "name": "stderr",
     "output_type": "stream",
     "text": [
      "28it [00:02, 12.72it/s]\n"
     ]
    },
    {
     "name": "stdout",
     "output_type": "stream",
     "text": [
      "part 4 clear\n"
     ]
    },
    {
     "name": "stderr",
     "output_type": "stream",
     "text": [
      "111it [00:06, 15.98it/s]\n"
     ]
    },
    {
     "name": "stdout",
     "output_type": "stream",
     "text": [
      "part 5 clear\n"
     ]
    },
    {
     "name": "stderr",
     "output_type": "stream",
     "text": [
      "144it [00:08, 17.03it/s]\n"
     ]
    },
    {
     "name": "stdout",
     "output_type": "stream",
     "text": [
      "part 6 clear\n"
     ]
    },
    {
     "name": "stderr",
     "output_type": "stream",
     "text": [
      "157it [00:09, 17.32it/s]\n"
     ]
    },
    {
     "name": "stdout",
     "output_type": "stream",
     "text": [
      "part 7 clear\n"
     ]
    },
    {
     "name": "stderr",
     "output_type": "stream",
     "text": [
      "179it [00:09, 18.06it/s]"
     ]
    },
    {
     "name": "stdout",
     "output_type": "stream",
     "text": [
      "part 8 clear\n"
     ]
    },
    {
     "name": "stderr",
     "output_type": "stream",
     "text": [
      "\n"
     ]
    }
   ],
   "source": [
    "tweet_jungle = for_time('2022-05-13','2022-05-20','롤 정글')\n",
    "df_jungle = pd.DataFrame(tweet_jungle, columns=['id_str', 'screen_name', 'full_text', 'retweeted'])\n",
    "df_jungle.to_csv('jungle_list.csv')"
   ]
  },
  {
   "cell_type": "code",
   "execution_count": 41,
   "metadata": {},
   "outputs": [
    {
     "name": "stderr",
     "output_type": "stream",
     "text": [
      "5it [00:01,  3.68it/s]\n"
     ]
    },
    {
     "name": "stdout",
     "output_type": "stream",
     "text": [
      "part 1 clear\n"
     ]
    },
    {
     "name": "stderr",
     "output_type": "stream",
     "text": [
      "9it [00:01,  6.44it/s]\n"
     ]
    },
    {
     "name": "stdout",
     "output_type": "stream",
     "text": [
      "part 2 clear\n"
     ]
    },
    {
     "name": "stderr",
     "output_type": "stream",
     "text": [
      "26it [00:02, 11.89it/s]\n"
     ]
    },
    {
     "name": "stdout",
     "output_type": "stream",
     "text": [
      "part 3 clear\n"
     ]
    },
    {
     "name": "stderr",
     "output_type": "stream",
     "text": [
      "32it [00:02, 10.98it/s]\n"
     ]
    },
    {
     "name": "stdout",
     "output_type": "stream",
     "text": [
      "part 4 clear\n"
     ]
    },
    {
     "name": "stderr",
     "output_type": "stream",
     "text": [
      "39it [00:03, 12.83it/s]\n"
     ]
    },
    {
     "name": "stdout",
     "output_type": "stream",
     "text": [
      "part 5 clear\n"
     ]
    },
    {
     "name": "stderr",
     "output_type": "stream",
     "text": [
      "47it [00:03, 12.80it/s]\n"
     ]
    },
    {
     "name": "stdout",
     "output_type": "stream",
     "text": [
      "part 6 clear\n"
     ]
    },
    {
     "name": "stderr",
     "output_type": "stream",
     "text": [
      "57it [00:03, 15.08it/s]\n"
     ]
    },
    {
     "name": "stdout",
     "output_type": "stream",
     "text": [
      "part 7 clear\n"
     ]
    },
    {
     "name": "stderr",
     "output_type": "stream",
     "text": [
      "69it [00:04, 15.37it/s]"
     ]
    },
    {
     "name": "stdout",
     "output_type": "stream",
     "text": [
      "part 8 clear\n"
     ]
    },
    {
     "name": "stderr",
     "output_type": "stream",
     "text": [
      "\n"
     ]
    }
   ],
   "source": [
    "tweet_ad = for_time('2022-05-13','2022-05-20','롤 원딜')\n",
    "df_ad = pd.DataFrame(tweet_ad, columns=['id_str', 'screen_name', 'full_text', 'retweeted'])\n",
    "df_ad.to_csv('ad_list.csv')"
   ]
  },
  {
   "cell_type": "code",
   "execution_count": 42,
   "metadata": {},
   "outputs": [
    {
     "name": "stderr",
     "output_type": "stream",
     "text": [
      "8it [00:01,  5.78it/s]\n"
     ]
    },
    {
     "name": "stdout",
     "output_type": "stream",
     "text": [
      "part 1 clear\n"
     ]
    },
    {
     "name": "stderr",
     "output_type": "stream",
     "text": [
      "11it [00:01,  7.85it/s]\n"
     ]
    },
    {
     "name": "stdout",
     "output_type": "stream",
     "text": [
      "part 2 clear\n"
     ]
    },
    {
     "name": "stderr",
     "output_type": "stream",
     "text": [
      "27it [00:02, 12.54it/s]\n"
     ]
    },
    {
     "name": "stdout",
     "output_type": "stream",
     "text": [
      "part 3 clear\n"
     ]
    },
    {
     "name": "stderr",
     "output_type": "stream",
     "text": [
      "35it [00:02, 12.23it/s]\n"
     ]
    },
    {
     "name": "stdout",
     "output_type": "stream",
     "text": [
      "part 4 clear\n"
     ]
    },
    {
     "name": "stderr",
     "output_type": "stream",
     "text": [
      "45it [00:02, 15.54it/s]\n"
     ]
    },
    {
     "name": "stdout",
     "output_type": "stream",
     "text": [
      "part 5 clear\n"
     ]
    },
    {
     "name": "stderr",
     "output_type": "stream",
     "text": [
      "56it [00:03, 15.12it/s]\n"
     ]
    },
    {
     "name": "stdout",
     "output_type": "stream",
     "text": [
      "part 6 clear\n"
     ]
    },
    {
     "name": "stderr",
     "output_type": "stream",
     "text": [
      "67it [00:04, 14.95it/s]\n"
     ]
    },
    {
     "name": "stdout",
     "output_type": "stream",
     "text": [
      "part 7 clear\n"
     ]
    },
    {
     "name": "stderr",
     "output_type": "stream",
     "text": [
      "77it [00:05, 15.07it/s]"
     ]
    },
    {
     "name": "stdout",
     "output_type": "stream",
     "text": [
      "part 8 clear\n"
     ]
    },
    {
     "name": "stderr",
     "output_type": "stream",
     "text": [
      "\n"
     ]
    }
   ],
   "source": [
    "tweet_sup = for_time('2022-05-13','2022-05-20','롤 서폿')\n",
    "df_sup = pd.DataFrame(tweet_sup, columns=['id_str', 'screen_name', 'full_text', 'retweeted'])\n",
    "df_sup.to_csv('sup_list.csv')"
   ]
  },
  {
   "cell_type": "code",
   "execution_count": null,
   "metadata": {},
   "outputs": [],
   "source": []
  }
 ],
 "metadata": {
  "interpreter": {
   "hash": "2648a8a28d6f8bcb4c13444cfedfef177d3a2b612d5c3e813aae17a997185493"
  },
  "kernelspec": {
   "display_name": "Python 3.10.4 64-bit",
   "language": "python",
   "name": "python3"
  },
  "language_info": {
   "codemirror_mode": {
    "name": "ipython",
    "version": 3
   },
   "file_extension": ".py",
   "mimetype": "text/x-python",
   "name": "python",
   "nbconvert_exporter": "python",
   "pygments_lexer": "ipython3",
   "version": "3.10.4"
  },
  "orig_nbformat": 4
 },
 "nbformat": 4,
 "nbformat_minor": 2
}
