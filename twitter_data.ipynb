{
 "cells": [
  {
   "cell_type": "code",
   "execution_count": 1,
   "metadata": {},
   "outputs": [
    {
     "name": "stdout",
     "output_type": "stream",
     "text": [
      "Requirement already satisfied: python-twitter in c:\\users\\colacan\\appdata\\local\\programs\\python\\python310\\lib\\site-packages (3.5)\n",
      "Requirement already satisfied: requests in c:\\users\\colacan\\appdata\\local\\programs\\python\\python310\\lib\\site-packages (from python-twitter) (2.25.1)\n",
      "Requirement already satisfied: requests-oauthlib in c:\\users\\colacan\\appdata\\local\\programs\\python\\python310\\lib\\site-packages (from python-twitter) (1.3.1)\n",
      "Requirement already satisfied: future in c:\\users\\colacan\\appdata\\local\\programs\\python\\python310\\lib\\site-packages (from python-twitter) (0.18.2)\n",
      "Requirement already satisfied: certifi>=2017.4.17 in c:\\users\\colacan\\appdata\\local\\programs\\python\\python310\\lib\\site-packages (from requests->python-twitter) (2020.12.5)\n",
      "Requirement already satisfied: chardet<5,>=3.0.2 in c:\\users\\colacan\\appdata\\local\\programs\\python\\python310\\lib\\site-packages (from requests->python-twitter) (4.0.0)\n",
      "Requirement already satisfied: idna<3,>=2.5 in c:\\users\\colacan\\appdata\\local\\programs\\python\\python310\\lib\\site-packages (from requests->python-twitter) (2.10)\n",
      "Requirement already satisfied: urllib3<1.27,>=1.21.1 in c:\\users\\colacan\\appdata\\local\\programs\\python\\python310\\lib\\site-packages (from requests->python-twitter) (1.26.3)\n",
      "Requirement already satisfied: oauthlib>=3.0.0 in c:\\users\\colacan\\appdata\\local\\programs\\python\\python310\\lib\\site-packages (from requests-oauthlib->python-twitter) (3.2.0)\n"
     ]
    },
    {
     "name": "stderr",
     "output_type": "stream",
     "text": [
      "WARNING: You are using pip version 22.0.4; however, version 22.1 is available.\n",
      "You should consider upgrading via the 'C:\\Users\\colacan\\AppData\\Local\\Programs\\Python\\Python310\\python.exe -m pip install --upgrade pip' command.\n"
     ]
    },
    {
     "name": "stdout",
     "output_type": "stream",
     "text": [
      "Requirement already satisfied: pandas in c:\\users\\colacan\\appdata\\local\\programs\\python\\python310\\lib\\site-packages (1.4.2)\n",
      "Requirement already satisfied: python-dateutil>=2.8.1 in c:\\users\\colacan\\appdata\\local\\programs\\python\\python310\\lib\\site-packages (from pandas) (2.8.1)\n",
      "Requirement already satisfied: numpy>=1.21.0 in c:\\users\\colacan\\appdata\\local\\programs\\python\\python310\\lib\\site-packages (from pandas) (1.22.3)\n",
      "Requirement already satisfied: pytz>=2020.1 in c:\\users\\colacan\\appdata\\local\\programs\\python\\python310\\lib\\site-packages (from pandas) (2022.1)\n",
      "Requirement already satisfied: six>=1.5 in c:\\users\\colacan\\appdata\\local\\programs\\python\\python310\\lib\\site-packages (from python-dateutil>=2.8.1->pandas) (1.15.0)\n"
     ]
    },
    {
     "name": "stderr",
     "output_type": "stream",
     "text": [
      "WARNING: You are using pip version 22.0.4; however, version 22.1 is available.\n",
      "You should consider upgrading via the 'C:\\Users\\colacan\\AppData\\Local\\Programs\\Python\\Python310\\python.exe -m pip install --upgrade pip' command.\n"
     ]
    }
   ],
   "source": [
    "!pip install python-twitter\n",
    "!pip install pandas"
   ]
  },
  {
   "cell_type": "code",
   "execution_count": 2,
   "metadata": {},
   "outputs": [],
   "source": [
    "twitter_consumer_key = \"o5RkzZCWRv82BO3Q7Ou6g3gP6\"\n",
    "twitter_consumer_secret = \"ZkhVNVnl2AbiXcQNfFg3nyUujC8Im3dsaLWkTgtxY8bPMFWnFm\"  \n",
    "twitter_access_token = \"1511161028247138313-qJlKodPZHwX6CNHKhfkrVBRO57pj92\"\n",
    "twitter_access_secret = \"CTkfZ2vMesebR87k7i46T7qcSUqdOIv5oPmmjNS8XFxnX\"\n",
    "import twitter\n",
    "twitter_api = twitter.Api(consumer_key=twitter_consumer_key,\n",
    "                          consumer_secret=twitter_consumer_secret, \n",
    "                          access_token_key=twitter_access_token, \n",
    "                          access_token_secret=twitter_access_secret)"
   ]
  },
  {
   "cell_type": "code",
   "execution_count": 26,
   "metadata": {},
   "outputs": [],
   "source": [
    "query = \"리그오브레전드\"\n",
    "statuses = twitter_api.GetSearch(term=query, count=100)"
   ]
  },
  {
   "cell_type": "code",
   "execution_count": 27,
   "metadata": {},
   "outputs": [],
   "source": [
    "import pandas as pd\n",
    "df = pd.DataFrame()"
   ]
  },
  {
   "cell_type": "code",
   "execution_count": 28,
   "metadata": {},
   "outputs": [],
   "source": [
    "for status in statuses:\n",
    "    new_df = pd.DataFrame([status.text])\n",
    "    df = pd.concat([df,new_df])"
   ]
  },
  {
   "cell_type": "code",
   "execution_count": 29,
   "metadata": {},
   "outputs": [
    {
     "data": {
      "text/html": [
       "<div>\n",
       "<style scoped>\n",
       "    .dataframe tbody tr th:only-of-type {\n",
       "        vertical-align: middle;\n",
       "    }\n",
       "\n",
       "    .dataframe tbody tr th {\n",
       "        vertical-align: top;\n",
       "    }\n",
       "\n",
       "    .dataframe thead th {\n",
       "        text-align: right;\n",
       "    }\n",
       "</style>\n",
       "<table border=\"1\" class=\"dataframe\">\n",
       "  <thead>\n",
       "    <tr style=\"text-align: right;\">\n",
       "      <th></th>\n",
       "      <th>0</th>\n",
       "    </tr>\n",
       "  </thead>\n",
       "  <tbody>\n",
       "    <tr>\n",
       "      <th>0</th>\n",
       "      <td>RT @noname_46431: RT❤\\n리그오브레전드(LOL) 장르의 모데카이저 ...</td>\n",
       "    </tr>\n",
       "    <tr>\n",
       "      <th>0</th>\n",
       "      <td>RT @Hawool_99: 리그오브레전드 롤 라칸(아무스킨이나) 코스프레 의상 구합...</td>\n",
       "    </tr>\n",
       "    <tr>\n",
       "      <th>0</th>\n",
       "      <td>리그오브레전드 롤 라칸(아무스킨이나) 코스프레 의상 구합니다~~!!! \\n\\n+같은...</td>\n",
       "    </tr>\n",
       "    <tr>\n",
       "      <th>0</th>\n",
       "      <td>RT @pepsizero_joa: 2022 PlayX4 \\n\\n에이크라운 부스\\n\\...</td>\n",
       "    </tr>\n",
       "    <tr>\n",
       "      <th>0</th>\n",
       "      <td>RT @COSHS_GORAE: #플엑_트친소\\n#플레이엑스포_트친소\\n#코스어_트친...</td>\n",
       "    </tr>\n",
       "    <tr>\n",
       "      <th>...</th>\n",
       "      <td>...</td>\n",
       "    </tr>\n",
       "    <tr>\n",
       "      <th>0</th>\n",
       "      <td>RT @COSHS_GORAE: #플엑_트친소\\n#플레이엑스포_트친소\\n#코스어_트친...</td>\n",
       "    </tr>\n",
       "    <tr>\n",
       "      <th>0</th>\n",
       "      <td>RT @COSHS_GORAE: #플엑_트친소\\n#플레이엑스포_트친소\\n#코스어_트친...</td>\n",
       "    </tr>\n",
       "    <tr>\n",
       "      <th>0</th>\n",
       "      <td>롤RP대리결제 롤RP대리충전이 아닌 안전한 롤RP선물식 판매합니다 6725RP 13...</td>\n",
       "    </tr>\n",
       "    <tr>\n",
       "      <th>0</th>\n",
       "      <td>RT @COSHS_GORAE: #플엑_트친소\\n#플레이엑스포_트친소\\n#코스어_트친...</td>\n",
       "    </tr>\n",
       "    <tr>\n",
       "      <th>0</th>\n",
       "      <td>학교에서 e스포츠 대회를 하는데 나갈까요? 종목은 리그오브레전드가 될 것 같습니다.</td>\n",
       "    </tr>\n",
       "  </tbody>\n",
       "</table>\n",
       "<p>100 rows × 1 columns</p>\n",
       "</div>"
      ],
      "text/plain": [
       "                                                    0\n",
       "0   RT @noname_46431: RT❤\\n리그오브레전드(LOL) 장르의 모데카이저 ...\n",
       "0   RT @Hawool_99: 리그오브레전드 롤 라칸(아무스킨이나) 코스프레 의상 구합...\n",
       "0   리그오브레전드 롤 라칸(아무스킨이나) 코스프레 의상 구합니다~~!!! \\n\\n+같은...\n",
       "0   RT @pepsizero_joa: 2022 PlayX4 \\n\\n에이크라운 부스\\n\\...\n",
       "0   RT @COSHS_GORAE: #플엑_트친소\\n#플레이엑스포_트친소\\n#코스어_트친...\n",
       "..                                                ...\n",
       "0   RT @COSHS_GORAE: #플엑_트친소\\n#플레이엑스포_트친소\\n#코스어_트친...\n",
       "0   RT @COSHS_GORAE: #플엑_트친소\\n#플레이엑스포_트친소\\n#코스어_트친...\n",
       "0   롤RP대리결제 롤RP대리충전이 아닌 안전한 롤RP선물식 판매합니다 6725RP 13...\n",
       "0   RT @COSHS_GORAE: #플엑_트친소\\n#플레이엑스포_트친소\\n#코스어_트친...\n",
       "0      학교에서 e스포츠 대회를 하는데 나갈까요? 종목은 리그오브레전드가 될 것 같습니다.\n",
       "\n",
       "[100 rows x 1 columns]"
      ]
     },
     "execution_count": 29,
     "metadata": {},
     "output_type": "execute_result"
    }
   ],
   "source": [
    "df"
   ]
  },
  {
   "cell_type": "code",
   "execution_count": null,
   "metadata": {},
   "outputs": [],
   "source": []
  }
 ],
 "metadata": {
  "interpreter": {
   "hash": "2648a8a28d6f8bcb4c13444cfedfef177d3a2b612d5c3e813aae17a997185493"
  },
  "kernelspec": {
   "display_name": "Python 3.10.4 64-bit",
   "language": "python",
   "name": "python3"
  },
  "language_info": {
   "codemirror_mode": {
    "name": "ipython",
    "version": 3
   },
   "file_extension": ".py",
   "mimetype": "text/x-python",
   "name": "python",
   "nbconvert_exporter": "python",
   "pygments_lexer": "ipython3",
   "version": "3.10.4"
  },
  "orig_nbformat": 4
 },
 "nbformat": 4,
 "nbformat_minor": 2
}
